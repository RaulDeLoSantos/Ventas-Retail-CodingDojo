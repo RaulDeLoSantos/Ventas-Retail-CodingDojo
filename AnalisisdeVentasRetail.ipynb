{
  "nbformat": 4,
  "nbformat_minor": 0,
  "metadata": {
    "colab": {
      "provenance": [],
      "mount_file_id": "https://github.com/RaulDeLoSantos/Ventas-Retail-CodingDojo/blob/development/AnalisisdeVentasRetail.ipynb",
      "authorship_tag": "ABX9TyNnBUqpaMW0MgtfoWfbKBD0",
      "include_colab_link": true
    },
    "kernelspec": {
      "name": "python3",
      "display_name": "Python 3"
    },
    "language_info": {
      "name": "python"
    }
  },
  "cells": [
    {
      "cell_type": "markdown",
      "metadata": {
        "id": "view-in-github",
        "colab_type": "text"
      },
      "source": [
        "<a href=\"https://colab.research.google.com/github/RaulDeLoSantos/Ventas-Retail-CodingDojo/blob/development/AnalisisdeVentasRetail.ipynb\" target=\"_parent\"><img src=\"https://colab.research.google.com/assets/colab-badge.svg\" alt=\"Open In Colab\"/></a>"
      ]
    },
    {
      "cell_type": "code",
      "execution_count": 4,
      "metadata": {
        "colab": {
          "base_uri": "https://localhost:8080/"
        },
        "id": "k-cJGUdUrX_X",
        "outputId": "8293e44c-1a82-4074-e8ed-bc1b18a18684"
      },
      "outputs": [
        {
          "output_type": "stream",
          "name": "stdout",
          "text": [
            "[[   1.   nan   nan ...    3.   50.  150.]\n",
            " [   2.   nan   nan ...    2.  500. 1000.]\n",
            " [   3.   nan   nan ...    1.   30.   30.]\n",
            " ...\n",
            " [ 998.   nan   nan ...    4.   25.  100.]\n",
            " [ 999.   nan   nan ...    3.   50.  150.]\n",
            " [1000.   nan   nan ...    4.   30.  120.]]\n"
          ]
        }
      ],
      "source": [
        "import numpy as np\n",
        "from google.colab import drive\n",
        "drive.mount('/content/drive')\n",
        "\n",
        "def cargar_datos(ruta_archivo):\n",
        "    # Carga los datos del archivo CSV utilizando NumPy\n",
        "    datos = np.genfromtxt(ruta_archivo, delimiter=',', skip_header=1)\n",
        "    return datos\n",
        "\n",
        "if __name__ == \"__main__\":\n",
        "    ruta_archivo = '/content/drive/MyDrive/Colab Notebooks/data/retail_sales_dataset.csv'\n",
        "    datos = cargar_datos(ruta_archivo)\n",
        "    print(datos)"
      ]
    }
  ]
}